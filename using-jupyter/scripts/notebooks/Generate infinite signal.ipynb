{
 "cells": [
  {
   "cell_type": "markdown",
   "metadata": {},
   "source": [
    "* Firstly, let's add WaveBeans dependencies as well as logging library.\n",
    "* Secondly, add all imports that might be useful."
   ]
  },
  {
   "cell_type": "code",
   "execution_count": 1,
   "metadata": {},
   "outputs": [
    {
     "data": {
      "text/html": [
       "   <div id=\"bbICNO\"></div>\n",
       "   <script type=\"text/javascript\">\n",
       "       if(!window.letsPlotCallQueue) {\n",
       "           window.letsPlotCallQueue = [];\n",
       "       }; \n",
       "       window.letsPlotCall = function(f) {\n",
       "           window.letsPlotCallQueue.push(f);\n",
       "       };\n",
       "       (function() {\n",
       "           var script = document.createElement(\"script\");\n",
       "           script.type = \"text/javascript\";\n",
       "           script.src = \"https://dl.bintray.com/jetbrains/lets-plot/lets-plot-1.0.0.min.js\";\n",
       "           script.onload = function() {\n",
       "               window.letsPlotCall = function(f) {f();};\n",
       "               window.letsPlotCallQueue.forEach(function(f) {f();});\n",
       "               window.letsPlotCallQueue = [];\n",
       "               \n",
       "               \n",
       "           };\n",
       "           script.onerror = function(event) {\n",
       "               window.letsPlotCall = function(f) {};\n",
       "               window.letsPlotCallQueue = [];\n",
       "               var div = document.createElement(\"div\");\n",
       "               div.style.color = 'darkred';\n",
       "               div.textContent = 'Error loading Lets-Plot JS';\n",
       "               document.getElementById(\"bbICNO\").appendChild(div);\n",
       "           };\n",
       "           var e = document.getElementById(\"bbICNO\");\n",
       "           e.appendChild(script);\n",
       "       })();\n",
       "   </script>"
      ]
     },
     "metadata": {},
     "output_type": "display_data"
    }
   ],
   "source": [
    "%use lets-plot\n",
    "\n",
    "@file:Repository(\"file:///home/jovyan/maven-local/repository\")\n",
    "@file:Repository(\"https://dl.bintray.com/wavebeans/wavebeans\")\n",
    "@file:DependsOn(\"io.wavebeans:lib:0.0.3-SNAPSHOT2\")\n",
    "@file:DependsOn(\"io.wavebeans:exe:0.0.3-SNAPSHOT2\")\n",
    "@file:DependsOn(\"io.wavebeans:http:0.0.3-SNAPSHOT2\")\n",
    "@file:DependsOn(\"ch.qos.logback:logback-classic:1.2.3\")\n",
    "@file:DependsOn(\"ch.qos.logback:logback-core:1.2.3\")\n",
    "\n",
    "import io.wavebeans.lib.*\n",
    "import io.wavebeans.lib.io.*\n",
    "import io.wavebeans.lib.math.*\n",
    "import io.wavebeans.lib.stream.*\n",
    "import io.wavebeans.lib.stream.fft.*\n",
    "import io.wavebeans.lib.stream.window.*\n",
    "import io.wavebeans.lib.table.*\n",
    "import io.wavebeans.http.*\n",
    "import io.wavebeans.execution.*\n",
    "import java.util.concurrent.TimeUnit.*"
   ]
  },
  {
   "cell_type": "markdown",
   "metadata": {},
   "source": [
    "* Start the HTTP Service so we could query all data in a different Jupyter notebook"
   ]
  },
  {
   "cell_type": "code",
   "execution_count": 2,
   "metadata": {},
   "outputs": [
    {
     "data": {
      "text/plain": [
       "io.wavebeans.http.HttpService@1c78a950"
      ]
     },
     "execution_count": 2,
     "metadata": {},
     "output_type": "execute_result"
    }
   ],
   "source": [
    "val server = HttpService(serverPort=6800)\n",
    "server.start()"
   ]
  },
  {
   "cell_type": "markdown",
   "metadata": {},
   "source": [
    "* Define our signal processing stream"
   ]
  },
  {
   "cell_type": "code",
   "execution_count": 3,
   "metadata": {},
   "outputs": [],
   "source": [
    "val o = (880.sine() + 440.sine() + 220.sine())\n",
    "    .trim(10000)\n",
    "    .window(401)\n",
    "    .fft(512)\n",
    "    .toTable(\"fft\", 10.s)"
   ]
  },
  {
   "cell_type": "markdown",
   "metadata": {},
   "source": [
    "* Execute streams."
   ]
  },
  {
   "cell_type": "code",
   "execution_count": 4,
   "metadata": {
    "scrolled": true
   },
   "outputs": [],
   "source": [
    "val overseer = LocalOverseer(listOf(o))\n",
    "overseer.eval(44100.0f).all { it.get().finished }\n",
    "overseer.close()"
   ]
  }
 ],
 "metadata": {
  "kernelspec": {
   "display_name": "Kotlin",
   "language": "kotlin",
   "name": "kotlin"
  },
  "language_info": {
   "codemirror_mode": "text/x-kotlin",
   "file_extension": "kt",
   "name": "kotlin"
  }
 },
 "nbformat": 4,
 "nbformat_minor": 4
}
