{
 "cells": [
  {
   "cell_type": "markdown",
   "metadata": {},
   "source": [
    "* Firstly, let's add WaveBeans dependencies as well as logging library.\n",
    "* Secondly, add all imports that might be useful."
   ]
  },
  {
   "cell_type": "code",
   "execution_count": 1,
   "metadata": {},
   "outputs": [
    {
     "data": {
      "text/html": [
       "   <div id=\"jGbOTG\"></div>\n",
       "   <script type=\"text/javascript\">\n",
       "       if(!window.letsPlotCallQueue) {\n",
       "           window.letsPlotCallQueue = [];\n",
       "       }; \n",
       "       window.letsPlotCall = function(f) {\n",
       "           window.letsPlotCallQueue.push(f);\n",
       "       };\n",
       "       (function() {\n",
       "           var script = document.createElement(\"script\");\n",
       "           script.type = \"text/javascript\";\n",
       "           script.src = \"https://dl.bintray.com/jetbrains/lets-plot/lets-plot-1.0.0.min.js\";\n",
       "           script.onload = function() {\n",
       "               window.letsPlotCall = function(f) {f();};\n",
       "               window.letsPlotCallQueue.forEach(function(f) {f();});\n",
       "               window.letsPlotCallQueue = [];\n",
       "               \n",
       "               \n",
       "           };\n",
       "           script.onerror = function(event) {\n",
       "               window.letsPlotCall = function(f) {};\n",
       "               window.letsPlotCallQueue = [];\n",
       "               var div = document.createElement(\"div\");\n",
       "               div.style.color = 'darkred';\n",
       "               div.textContent = 'Error loading Lets-Plot JS';\n",
       "               document.getElementById(\"jGbOTG\").appendChild(div);\n",
       "           };\n",
       "           var e = document.getElementById(\"jGbOTG\");\n",
       "           e.appendChild(script);\n",
       "       })();\n",
       "   </script>"
      ]
     },
     "metadata": {},
     "output_type": "display_data"
    }
   ],
   "source": [
    "%use lets-plot\n",
    "\n",
    "@file:Repository(\"file:///home/jovyan/maven-local/repository\")\n",
    "@file:Repository(\"https://dl.bintray.com/wavebeans/wavebeans\")\n",
    "@file:DependsOn(\"io.wavebeans:lib:0.0.3-SNAPSHOT4\")\n",
    "@file:DependsOn(\"io.wavebeans:exe:0.0.3-SNAPSHOT4\")\n",
    "@file:DependsOn(\"io.wavebeans:http:0.0.3-SNAPSHOT4\")\n",
    "@file:DependsOn(\"ch.qos.logback:logback-classic:1.2.3\")\n",
    "@file:DependsOn(\"ch.qos.logback:logback-core:1.2.3\")\n",
    "\n",
    "import io.wavebeans.lib.*\n",
    "import io.wavebeans.lib.io.*\n",
    "import io.wavebeans.lib.math.*\n",
    "import io.wavebeans.lib.stream.*\n",
    "import io.wavebeans.lib.stream.fft.*\n",
    "import io.wavebeans.lib.stream.window.*\n",
    "import io.wavebeans.lib.table.*\n",
    "import io.wavebeans.http.*\n",
    "import io.wavebeans.execution.*\n",
    "import java.util.concurrent.TimeUnit.*"
   ]
  },
  {
   "cell_type": "markdown",
   "metadata": {},
   "source": [
    "* Start the HTTP Service on port 6800, so we could query all data in a different Jupyter notebook"
   ]
  },
  {
   "cell_type": "code",
   "execution_count": 2,
   "metadata": {},
   "outputs": [
    {
     "data": {
      "text/plain": [
       "io.wavebeans.http.HttpService@36e2c864"
      ]
     },
     "execution_count": 2,
     "metadata": {},
     "output_type": "execute_result"
    }
   ],
   "source": [
    "HttpService(serverPort = 6800).start()"
   ]
  },
  {
   "cell_type": "markdown",
   "metadata": {},
   "source": [
    "* Define our signal processing stream:\n",
    "    * it is infinite;\n",
    "    * we store only last 10 seconds in the table."
   ]
  },
  {
   "cell_type": "code",
   "execution_count": 3,
   "metadata": {},
   "outputs": [],
   "source": [
    "val o = (880.sine() + 440.sine() + 220.sine())\n",
    "    .window(401, step = 128)\n",
    "    .fft(512)\n",
    "    .toTable(\"fft\", 2.m)"
   ]
  },
  {
   "cell_type": "markdown",
   "metadata": {},
   "source": [
    "* Execute stream, it'll never finish though"
   ]
  },
  {
   "cell_type": "code",
   "execution_count": null,
   "metadata": {
    "scrolled": true
   },
   "outputs": [],
   "source": [
    "val overseer = LocalOverseer(listOf(o))\n",
    "overseer.eval(44100.0f).all { it.get().finished }\n",
    "overseer.close()"
   ]
  }
 ],
 "metadata": {
  "kernelspec": {
   "display_name": "Kotlin",
   "language": "kotlin",
   "name": "kotlin"
  },
  "language_info": {
   "codemirror_mode": "text/x-kotlin",
   "file_extension": "kt",
   "name": "kotlin"
  }
 },
 "nbformat": 4,
 "nbformat_minor": 4
}
