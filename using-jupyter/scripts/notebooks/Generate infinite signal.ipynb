{
 "cells": [
  {
   "cell_type": "markdown",
   "metadata": {},
   "source": [
    "# Generate long signal and share it"
   ]
  },
  {
   "cell_type": "markdown",
   "metadata": {},
   "source": [
    "## Define the environment\n",
    "\n",
    "* Firstly, let's add WaveBeans dependencies as well as logging library.\n",
    "* Secondly, add all imports that might be useful.\n",
    "* Lastly, initialize parameters"
   ]
  },
  {
   "cell_type": "code",
   "execution_count": 1,
   "metadata": {},
   "outputs": [],
   "source": [
    "//uncomment if you're trying to access the local maven repository and have it mounted.\n",
    "//@file:Repository(\"file:///home/jovyan/maven-local/repository\")\n",
    "@file:DependsOn(\"io.wavebeans:lib:0.3.0\")\n",
    "@file:DependsOn(\"io.wavebeans:exe:0.3.0\")\n",
    "@file:DependsOn(\"io.wavebeans:http:0.3.0\")\n",
    "// uncomment if you need logging\n",
    "// @file:DependsOn(\"ch.qos.logback:logback-classic:1.2.3\")\n",
    "// @file:DependsOn(\"ch.qos.logback:logback-core:1.2.3\")\n",
    "\n",
    "import io.wavebeans.lib.*\n",
    "import io.wavebeans.lib.io.*\n",
    "import io.wavebeans.lib.math.*\n",
    "import io.wavebeans.lib.stream.*\n",
    "import io.wavebeans.lib.stream.fft.*\n",
    "import io.wavebeans.lib.stream.window.*\n",
    "import io.wavebeans.lib.table.*\n",
    "import io.wavebeans.http.*\n",
    "import io.wavebeans.execution.*\n",
    "import java.util.concurrent.TimeUnit.*\n",
    "\n",
    "val windowSize = 801\n",
    "val stepSize = 256\n",
    "val fftSize = 1024"
   ]
  },
  {
   "cell_type": "markdown",
   "metadata": {},
   "source": [
    "## Prepare for sharing\n",
    "\n",
    "* Start the HTTP Service on port 6800, so we could query all data in a different Jupyter notebook"
   ]
  },
  {
   "cell_type": "code",
   "execution_count": 2,
   "metadata": {
    "scrolled": true
   },
   "outputs": [
    {
     "data": {
      "text/plain": [
       "io.wavebeans.http.HttpService@23e6cf6f"
      ]
     },
     "execution_count": 2,
     "metadata": {},
     "output_type": "execute_result"
    }
   ],
   "source": [
    "HttpService(serverPort = 6800).start()"
   ]
  },
  {
   "cell_type": "markdown",
   "metadata": {},
   "source": [
    "## Define the stream and execute it\n",
    "\n",
    "* Define our signal processing stream:\n",
    "    * it is infinite;\n",
    "    * we store only last 2 minutes in the table."
   ]
  },
  {
   "cell_type": "code",
   "execution_count": 3,
   "metadata": {},
   "outputs": [],
   "source": [
    "val signal = (880.sine() + 440.sine() + 220.sine())\n",
    "    .window(windowSize, step = stepSize)\n",
    "\n",
    "val triangularFft = signal\n",
    "    .triangular()\n",
    "    .fft(fftSize)\n",
    "    .toTable(\"fft-triangular\", 2.m)\n",
    "val hammingFft = signal\n",
    "    .hamming()\n",
    "    .fft(fftSize)\n",
    "    .toTable(\"fft-hamming\", 2.m)"
   ]
  },
  {
   "cell_type": "markdown",
   "metadata": {},
   "source": [
    "* Execute the stream, it'll never finish though"
   ]
  },
  {
   "cell_type": "code",
   "execution_count": null,
   "metadata": {
    "scrolled": true
   },
   "outputs": [],
   "source": [
    "val overseer = LocalDistributedOverseer(\n",
    "    listOf(triangularFft, hammingFft), \n",
    "    threadsCount = 2,\n",
    "    partitionsCount = 2\n",
    ")\n",
    "\n",
    "val errors = overseer.eval(44100.0f)\n",
    "    .map { it.get().exception }\n",
    "    .filterNotNull()\n",
    "    .toList()\n",
    "    \n",
    "overseer.close()\n",
    "\n",
    "if (errors.isEmpty()) {\n",
    "    println(\"SUCCESS\")\n",
    "} else {\n",
    "    println(\"ERROR:\\n\" + errors.joinToString(\"\\n\"))\n",
    "}\n"
   ]
  }
 ],
 "metadata": {
  "kernelspec": {
   "display_name": "Kotlin",
   "language": "kotlin",
   "name": "kotlin"
  },
  "language_info": {
   "codemirror_mode": "text/x-kotlin",
   "file_extension": "kt",
   "name": "kotlin"
  }
 },
 "nbformat": 4,
 "nbformat_minor": 4
}